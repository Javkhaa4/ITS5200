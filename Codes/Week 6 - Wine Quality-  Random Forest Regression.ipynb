{
 "cells": [
  {
   "cell_type": "markdown",
   "id": "f65613c4",
   "metadata": {},
   "source": [
    "## Libraries"
   ]
  },
  {
   "cell_type": "code",
   "execution_count": 23,
   "id": "a4b10461",
   "metadata": {},
   "outputs": [],
   "source": [
    "import numpy as np\n",
    "import torch\n",
    "import pandas as pd\n",
    "## pandas lib could work csv file\n",
    "\n",
    "import sklearn\n",
    "import random\n",
    "import torch.nn as nn\n",
    "import torch.nn.functional as F\n",
    "import torch.optim as optim\n"
   ]
  },
  {
   "cell_type": "code",
   "execution_count": 24,
   "id": "64e577e8",
   "metadata": {},
   "outputs": [],
   "source": [
    "import matplotlib.pyplot as plt\n",
    "\n",
    "from mlxtend.plotting import heatmap\n",
    "from sklearn.model_selection import train_test_split \n",
    "from torch.utils.data import TensorDataset, DataLoader\n",
    "\n",
    "## standard metrics in regression\n",
    "## coefficeint in determination\n",
    "from sklearn.metrics import r2_score\n",
    "\n",
    "import xgboost as xgb\n",
    "\n",
    "from sklearn.ensemble import RandomForestRegressor"
   ]
  },
  {
   "cell_type": "code",
   "execution_count": null,
   "id": "98917923",
   "metadata": {},
   "outputs": [],
   "source": []
  },
  {
   "cell_type": "markdown",
   "id": "f93e7907",
   "metadata": {},
   "source": [
    "## Read data "
   ]
  },
  {
   "cell_type": "code",
   "execution_count": 25,
   "id": "91a94d40",
   "metadata": {},
   "outputs": [],
   "source": [
    "\n",
    "path_data = 'data/winequality-white.csv'\n",
    "\n",
    "WINE_raw_data = pd.read_csv (path_data, delimiter = \";\")\n",
    "\n",
    "## WINE_raw_data -d csv file iig duudaj ugj bn."
   ]
  },
  {
   "cell_type": "code",
   "execution_count": 26,
   "id": "ddebf6c7",
   "metadata": {},
   "outputs": [],
   "source": [
    "## headers_list\n",
    "\n",
    "headers_list = WINE_raw_data.columns.values.tolist ()\n",
    "##csv file iin header deer bga medeelliig avj list helberluu shiljuulj label hiihdee ashiglahad beldej bna\n",
    "\n",
    "## headers_list"
   ]
  },
  {
   "cell_type": "code",
   "execution_count": null,
   "id": "be9ce840",
   "metadata": {},
   "outputs": [],
   "source": []
  },
  {
   "cell_type": "code",
   "execution_count": null,
   "id": "f04d5e9a",
   "metadata": {},
   "outputs": [],
   "source": []
  },
  {
   "cell_type": "markdown",
   "id": "24ed3609",
   "metadata": {},
   "source": [
    "## Process Data"
   ]
  },
  {
   "cell_type": "code",
   "execution_count": 27,
   "id": "28be7723",
   "metadata": {},
   "outputs": [],
   "source": [
    "## Convert Pandas to Numpy\n",
    "## CSV filed bsan datag Pandas aar unshij avsan bsanaa Numpy ruu hurvuulj deer n ajillahad beldej bn\n",
    "\n",
    "WINE_raw_data_np = WINE_raw_data.to_numpy()\n"
   ]
  },
  {
   "cell_type": "code",
   "execution_count": 28,
   "id": "2870510f",
   "metadata": {},
   "outputs": [],
   "source": [
    "## WINE_raw_data_np"
   ]
  },
  {
   "cell_type": "code",
   "execution_count": 29,
   "id": "618ff421",
   "metadata": {},
   "outputs": [],
   "source": [
    "## WINE_raw_data_np.shape"
   ]
  },
  {
   "cell_type": "code",
   "execution_count": 30,
   "id": "dff59ddb",
   "metadata": {},
   "outputs": [],
   "source": [
    "## indexing data\n",
    "\n",
    "X = WINE_raw_data_np [:, :-1]\n",
    "## , buh row iig avna. columns aas suuliin negiig songoj avna (slicing)\n",
    "\n",
    "y = WINE_raw_data_np [:,11:12]\n",
    "\n"
   ]
  },
  {
   "cell_type": "code",
   "execution_count": 31,
   "id": "d2dc9097",
   "metadata": {},
   "outputs": [],
   "source": [
    "## print (X.shape)\n",
    "## print (y.shape)"
   ]
  },
  {
   "cell_type": "markdown",
   "id": "b3670dce",
   "metadata": {},
   "source": [
    "## Random Seed"
   ]
  },
  {
   "cell_type": "code",
   "execution_count": 684,
   "id": "d45b621c",
   "metadata": {},
   "outputs": [],
   "source": [
    "random_seed = int (random.random() *100)"
   ]
  },
  {
   "cell_type": "code",
   "execution_count": 685,
   "id": "7cfd901d",
   "metadata": {},
   "outputs": [
    {
     "data": {
      "text/plain": [
       "76"
      ]
     },
     "execution_count": 685,
     "metadata": {},
     "output_type": "execute_result"
    }
   ],
   "source": [
    "random_seed"
   ]
  },
  {
   "cell_type": "code",
   "execution_count": 686,
   "id": "8c24ddde",
   "metadata": {},
   "outputs": [],
   "source": [
    "X_train, X_test, y_train, y_test = train_test_split (X, y, test_size = 0.2, random_state = random_seed)"
   ]
  },
  {
   "cell_type": "code",
   "execution_count": 687,
   "id": "12514880",
   "metadata": {},
   "outputs": [
    {
     "name": "stdout",
     "output_type": "stream",
     "text": [
      "(3918, 11)\n",
      "(980, 11)\n",
      "(3918, 1)\n",
      "(980, 1)\n"
     ]
    }
   ],
   "source": [
    "print (X_train.shape)\n",
    "print (X_test.shape)\n",
    "print (y_train.shape)\n",
    "print (y_test.shape)"
   ]
  },
  {
   "cell_type": "code",
   "execution_count": null,
   "id": "af4b6a49",
   "metadata": {},
   "outputs": [],
   "source": []
  },
  {
   "cell_type": "markdown",
   "id": "e77e7d5f",
   "metadata": {},
   "source": [
    "## RandomForest"
   ]
  },
  {
   "cell_type": "code",
   "execution_count": 688,
   "id": "177df1a5",
   "metadata": {},
   "outputs": [],
   "source": [
    "\n",
    "# Random Forest Regression\n",
    "regressor = RandomForestRegressor (\n",
    "    \n",
    "    n_estimators = 100,\n",
    "    max_depth = 54,\n",
    "    min_samples_split = 4,\n",
    "    min_samples_leaf = 1,\n",
    "    max_features = \"auto\",\n",
    "      \n",
    "\n",
    ")\n",
    "\n"
   ]
  },
  {
   "cell_type": "code",
   "execution_count": 689,
   "id": "eb091980",
   "metadata": {},
   "outputs": [
    {
     "data": {
      "text/plain": [
       "RandomForestRegressor(max_depth=54, min_samples_split=4)"
      ]
     },
     "execution_count": 689,
     "metadata": {},
     "output_type": "execute_result"
    }
   ],
   "source": [
    "\n",
    "regressor.fit(X_train, y_train.ravel()) \n",
    "\n"
   ]
  },
  {
   "cell_type": "code",
   "execution_count": 690,
   "id": "9a60f8c0",
   "metadata": {},
   "outputs": [],
   "source": [
    "\n",
    "y_pred = regressor.predict(X_test)\n"
   ]
  },
  {
   "cell_type": "code",
   "execution_count": 691,
   "id": "af794be1",
   "metadata": {},
   "outputs": [
    {
     "name": "stdout",
     "output_type": "stream",
     "text": [
      "R-squared score: 0.5357323851101126\n"
     ]
    }
   ],
   "source": [
    "\n",
    "r2 = r2_score(y_test, y_pred)\n",
    "print(\"R-squared score:\", r2)\n"
   ]
  },
  {
   "cell_type": "code",
   "execution_count": 675,
   "id": "0dcc1d9c",
   "metadata": {},
   "outputs": [],
   "source": [
    "\n",
    "## y_pred.shape\n"
   ]
  },
  {
   "cell_type": "code",
   "execution_count": 614,
   "id": "2bf03ec6",
   "metadata": {},
   "outputs": [],
   "source": [
    "\n",
    "## y_pred\n"
   ]
  },
  {
   "cell_type": "code",
   "execution_count": null,
   "id": "649d78e1",
   "metadata": {},
   "outputs": [],
   "source": []
  },
  {
   "cell_type": "code",
   "execution_count": null,
   "id": "1a4e0c83",
   "metadata": {},
   "outputs": [],
   "source": []
  },
  {
   "cell_type": "code",
   "execution_count": null,
   "id": "712d0da8",
   "metadata": {},
   "outputs": [],
   "source": []
  }
 ],
 "metadata": {
  "kernelspec": {
   "display_name": "Python 3 (ipykernel)",
   "language": "python",
   "name": "python3"
  },
  "language_info": {
   "codemirror_mode": {
    "name": "ipython",
    "version": 3
   },
   "file_extension": ".py",
   "mimetype": "text/x-python",
   "name": "python",
   "nbconvert_exporter": "python",
   "pygments_lexer": "ipython3",
   "version": "3.7.16"
  }
 },
 "nbformat": 4,
 "nbformat_minor": 5
}
