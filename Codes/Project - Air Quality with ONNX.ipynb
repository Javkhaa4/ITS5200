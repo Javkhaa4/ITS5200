{
 "cells": [
  {
   "cell_type": "markdown",
   "id": "f65613c4",
   "metadata": {},
   "source": [
    "## Libraries"
   ]
  },
  {
   "cell_type": "code",
   "execution_count": 90,
   "id": "53561fe4",
   "metadata": {},
   "outputs": [],
   "source": [
    "## !pip install pandas\n",
    "## !pip install mlxtend\n",
    "\n",
    "## !pip install onnxmltools\n",
    "\n",
    "## !pip install onnxruntime"
   ]
  },
  {
   "cell_type": "code",
   "execution_count": 265,
   "id": "a4b10461",
   "metadata": {},
   "outputs": [],
   "source": [
    "import numpy as np\n",
    "import torch\n",
    "import pandas as pd\n",
    "## pandas lib could work csv file\n",
    "\n",
    "import sklearn\n",
    "import random\n",
    "import torch.nn as nn\n",
    "import torch.nn.functional as F\n",
    "import torch.optim as optim\n"
   ]
  },
  {
   "cell_type": "code",
   "execution_count": 266,
   "id": "64e577e8",
   "metadata": {},
   "outputs": [],
   "source": [
    "import matplotlib.pyplot as plt\n",
    "\n",
    "from mlxtend.plotting import heatmap\n",
    "from sklearn.model_selection import train_test_split \n",
    "from torch.utils.data import TensorDataset, DataLoader\n",
    "\n",
    "## standard metrics in regression\n",
    "## coefficeint in determination\n",
    "from sklearn.metrics import r2_score\n"
   ]
  },
  {
   "cell_type": "code",
   "execution_count": 267,
   "id": "a4b913ce",
   "metadata": {},
   "outputs": [],
   "source": [
    "\n",
    "import xgboost as xgb\n"
   ]
  },
  {
   "cell_type": "code",
   "execution_count": 268,
   "id": "5f4dad18",
   "metadata": {},
   "outputs": [],
   "source": [
    "\n",
    "import onnxruntime as rt\n",
    "import onnxmltools\n",
    "\n",
    "from skl2onnx.common.data_types import FloatTensorType\n"
   ]
  },
  {
   "cell_type": "code",
   "execution_count": null,
   "id": "2517c2d9",
   "metadata": {},
   "outputs": [],
   "source": []
  },
  {
   "cell_type": "markdown",
   "id": "f93e7907",
   "metadata": {},
   "source": [
    "## Read data "
   ]
  },
  {
   "cell_type": "code",
   "execution_count": 271,
   "id": "91a94d40",
   "metadata": {},
   "outputs": [],
   "source": [
    "\n",
    "path_data = 'city_day.csv'\n",
    "\n",
    "Air_raw_data = pd.read_csv (path_data) ##, delimiter = \";\")\n",
    "\n",
    "## WINE_raw_data -d csv file iig duudaj ugj bn."
   ]
  },
  {
   "cell_type": "code",
   "execution_count": 272,
   "id": "7b27ba56",
   "metadata": {},
   "outputs": [
    {
     "data": {
      "text/html": [
       "<div>\n",
       "<style scoped>\n",
       "    .dataframe tbody tr th:only-of-type {\n",
       "        vertical-align: middle;\n",
       "    }\n",
       "\n",
       "    .dataframe tbody tr th {\n",
       "        vertical-align: top;\n",
       "    }\n",
       "\n",
       "    .dataframe thead th {\n",
       "        text-align: right;\n",
       "    }\n",
       "</style>\n",
       "<table border=\"1\" class=\"dataframe\">\n",
       "  <thead>\n",
       "    <tr style=\"text-align: right;\">\n",
       "      <th></th>\n",
       "      <th>PM2.5</th>\n",
       "      <th>PM10</th>\n",
       "      <th>NO</th>\n",
       "      <th>NO2</th>\n",
       "      <th>NOx</th>\n",
       "      <th>NH3</th>\n",
       "      <th>CO</th>\n",
       "      <th>SO2</th>\n",
       "      <th>O3</th>\n",
       "      <th>Benzene</th>\n",
       "      <th>Toluene</th>\n",
       "      <th>Xylene</th>\n",
       "      <th>AQI</th>\n",
       "      <th>AQI_Bucket</th>\n",
       "    </tr>\n",
       "  </thead>\n",
       "  <tbody>\n",
       "    <tr>\n",
       "      <th>0</th>\n",
       "      <td>81.40</td>\n",
       "      <td>124.50</td>\n",
       "      <td>1.44</td>\n",
       "      <td>20.50</td>\n",
       "      <td>12.08</td>\n",
       "      <td>10.72</td>\n",
       "      <td>0.12</td>\n",
       "      <td>15.24</td>\n",
       "      <td>127.09</td>\n",
       "      <td>0.20</td>\n",
       "      <td>6.50</td>\n",
       "      <td>0.06</td>\n",
       "      <td>184.0</td>\n",
       "      <td>Moderate</td>\n",
       "    </tr>\n",
       "    <tr>\n",
       "      <th>1</th>\n",
       "      <td>78.32</td>\n",
       "      <td>129.06</td>\n",
       "      <td>1.26</td>\n",
       "      <td>26.00</td>\n",
       "      <td>14.85</td>\n",
       "      <td>10.28</td>\n",
       "      <td>0.14</td>\n",
       "      <td>26.96</td>\n",
       "      <td>117.44</td>\n",
       "      <td>0.22</td>\n",
       "      <td>7.95</td>\n",
       "      <td>0.08</td>\n",
       "      <td>197.0</td>\n",
       "      <td>Moderate</td>\n",
       "    </tr>\n",
       "    <tr>\n",
       "      <th>2</th>\n",
       "      <td>88.76</td>\n",
       "      <td>135.32</td>\n",
       "      <td>6.60</td>\n",
       "      <td>30.85</td>\n",
       "      <td>21.77</td>\n",
       "      <td>12.91</td>\n",
       "      <td>0.11</td>\n",
       "      <td>33.59</td>\n",
       "      <td>111.81</td>\n",
       "      <td>0.29</td>\n",
       "      <td>7.63</td>\n",
       "      <td>0.12</td>\n",
       "      <td>198.0</td>\n",
       "      <td>Moderate</td>\n",
       "    </tr>\n",
       "    <tr>\n",
       "      <th>3</th>\n",
       "      <td>64.18</td>\n",
       "      <td>104.09</td>\n",
       "      <td>2.56</td>\n",
       "      <td>28.07</td>\n",
       "      <td>17.01</td>\n",
       "      <td>11.42</td>\n",
       "      <td>0.09</td>\n",
       "      <td>19.00</td>\n",
       "      <td>138.18</td>\n",
       "      <td>0.17</td>\n",
       "      <td>5.02</td>\n",
       "      <td>0.07</td>\n",
       "      <td>188.0</td>\n",
       "      <td>Moderate</td>\n",
       "    </tr>\n",
       "    <tr>\n",
       "      <th>4</th>\n",
       "      <td>72.47</td>\n",
       "      <td>114.84</td>\n",
       "      <td>5.23</td>\n",
       "      <td>23.20</td>\n",
       "      <td>16.59</td>\n",
       "      <td>12.25</td>\n",
       "      <td>0.16</td>\n",
       "      <td>10.55</td>\n",
       "      <td>109.74</td>\n",
       "      <td>0.21</td>\n",
       "      <td>4.71</td>\n",
       "      <td>0.08</td>\n",
       "      <td>173.0</td>\n",
       "      <td>Moderate</td>\n",
       "    </tr>\n",
       "    <tr>\n",
       "      <th>...</th>\n",
       "      <td>...</td>\n",
       "      <td>...</td>\n",
       "      <td>...</td>\n",
       "      <td>...</td>\n",
       "      <td>...</td>\n",
       "      <td>...</td>\n",
       "      <td>...</td>\n",
       "      <td>...</td>\n",
       "      <td>...</td>\n",
       "      <td>...</td>\n",
       "      <td>...</td>\n",
       "      <td>...</td>\n",
       "      <td>...</td>\n",
       "      <td>...</td>\n",
       "    </tr>\n",
       "    <tr>\n",
       "      <th>6231</th>\n",
       "      <td>7.63</td>\n",
       "      <td>32.27</td>\n",
       "      <td>5.91</td>\n",
       "      <td>23.27</td>\n",
       "      <td>17.19</td>\n",
       "      <td>11.15</td>\n",
       "      <td>0.46</td>\n",
       "      <td>6.87</td>\n",
       "      <td>19.90</td>\n",
       "      <td>1.45</td>\n",
       "      <td>5.37</td>\n",
       "      <td>1.45</td>\n",
       "      <td>47.0</td>\n",
       "      <td>Good</td>\n",
       "    </tr>\n",
       "    <tr>\n",
       "      <th>6232</th>\n",
       "      <td>15.02</td>\n",
       "      <td>50.94</td>\n",
       "      <td>7.68</td>\n",
       "      <td>25.06</td>\n",
       "      <td>19.54</td>\n",
       "      <td>12.47</td>\n",
       "      <td>0.47</td>\n",
       "      <td>8.55</td>\n",
       "      <td>23.30</td>\n",
       "      <td>2.24</td>\n",
       "      <td>12.07</td>\n",
       "      <td>0.73</td>\n",
       "      <td>41.0</td>\n",
       "      <td>Good</td>\n",
       "    </tr>\n",
       "    <tr>\n",
       "      <th>6233</th>\n",
       "      <td>24.38</td>\n",
       "      <td>74.09</td>\n",
       "      <td>3.42</td>\n",
       "      <td>26.06</td>\n",
       "      <td>16.53</td>\n",
       "      <td>11.99</td>\n",
       "      <td>0.52</td>\n",
       "      <td>12.72</td>\n",
       "      <td>30.14</td>\n",
       "      <td>0.74</td>\n",
       "      <td>2.21</td>\n",
       "      <td>0.38</td>\n",
       "      <td>70.0</td>\n",
       "      <td>Satisfactory</td>\n",
       "    </tr>\n",
       "    <tr>\n",
       "      <th>6234</th>\n",
       "      <td>22.91</td>\n",
       "      <td>65.73</td>\n",
       "      <td>3.45</td>\n",
       "      <td>29.53</td>\n",
       "      <td>18.33</td>\n",
       "      <td>10.71</td>\n",
       "      <td>0.48</td>\n",
       "      <td>8.42</td>\n",
       "      <td>30.96</td>\n",
       "      <td>0.01</td>\n",
       "      <td>0.01</td>\n",
       "      <td>0.00</td>\n",
       "      <td>68.0</td>\n",
       "      <td>Satisfactory</td>\n",
       "    </tr>\n",
       "    <tr>\n",
       "      <th>6235</th>\n",
       "      <td>16.64</td>\n",
       "      <td>49.97</td>\n",
       "      <td>4.05</td>\n",
       "      <td>29.26</td>\n",
       "      <td>18.80</td>\n",
       "      <td>10.03</td>\n",
       "      <td>0.52</td>\n",
       "      <td>9.84</td>\n",
       "      <td>28.30</td>\n",
       "      <td>0.00</td>\n",
       "      <td>0.00</td>\n",
       "      <td>0.00</td>\n",
       "      <td>54.0</td>\n",
       "      <td>Satisfactory</td>\n",
       "    </tr>\n",
       "  </tbody>\n",
       "</table>\n",
       "<p>6236 rows × 14 columns</p>\n",
       "</div>"
      ],
      "text/plain": [
       "      PM2.5    PM10    NO    NO2    NOx    NH3    CO    SO2      O3  Benzene  \\\n",
       "0     81.40  124.50  1.44  20.50  12.08  10.72  0.12  15.24  127.09     0.20   \n",
       "1     78.32  129.06  1.26  26.00  14.85  10.28  0.14  26.96  117.44     0.22   \n",
       "2     88.76  135.32  6.60  30.85  21.77  12.91  0.11  33.59  111.81     0.29   \n",
       "3     64.18  104.09  2.56  28.07  17.01  11.42  0.09  19.00  138.18     0.17   \n",
       "4     72.47  114.84  5.23  23.20  16.59  12.25  0.16  10.55  109.74     0.21   \n",
       "...     ...     ...   ...    ...    ...    ...   ...    ...     ...      ...   \n",
       "6231   7.63   32.27  5.91  23.27  17.19  11.15  0.46   6.87   19.90     1.45   \n",
       "6232  15.02   50.94  7.68  25.06  19.54  12.47  0.47   8.55   23.30     2.24   \n",
       "6233  24.38   74.09  3.42  26.06  16.53  11.99  0.52  12.72   30.14     0.74   \n",
       "6234  22.91   65.73  3.45  29.53  18.33  10.71  0.48   8.42   30.96     0.01   \n",
       "6235  16.64   49.97  4.05  29.26  18.80  10.03  0.52   9.84   28.30     0.00   \n",
       "\n",
       "      Toluene  Xylene    AQI    AQI_Bucket  \n",
       "0        6.50    0.06  184.0      Moderate  \n",
       "1        7.95    0.08  197.0      Moderate  \n",
       "2        7.63    0.12  198.0      Moderate  \n",
       "3        5.02    0.07  188.0      Moderate  \n",
       "4        4.71    0.08  173.0      Moderate  \n",
       "...       ...     ...    ...           ...  \n",
       "6231     5.37    1.45   47.0          Good  \n",
       "6232    12.07    0.73   41.0          Good  \n",
       "6233     2.21    0.38   70.0  Satisfactory  \n",
       "6234     0.01    0.00   68.0  Satisfactory  \n",
       "6235     0.00    0.00   54.0  Satisfactory  \n",
       "\n",
       "[6236 rows x 14 columns]"
      ]
     },
     "execution_count": 272,
     "metadata": {},
     "output_type": "execute_result"
    }
   ],
   "source": [
    "Air_raw_data"
   ]
  },
  {
   "cell_type": "code",
   "execution_count": 304,
   "id": "ddebf6c7",
   "metadata": {},
   "outputs": [
    {
     "data": {
      "text/plain": [
       "['PM2.5',\n",
       " 'PM10',\n",
       " 'NO',\n",
       " 'NO2',\n",
       " 'NOx',\n",
       " 'NH3',\n",
       " 'CO',\n",
       " 'SO2',\n",
       " 'O3',\n",
       " 'Benzene',\n",
       " 'Toluene',\n",
       " 'Xylene',\n",
       " 'AQI']"
      ]
     },
     "execution_count": 304,
     "metadata": {},
     "output_type": "execute_result"
    }
   ],
   "source": [
    "## headers_list\n",
    "\n",
    "headers_list = Air_raw_data.columns.values.tolist ()\n",
    "##csv file iin header deer bga medeelliig avj list helberluu shiljuulj label hiihdee ashiglahad beldej bna\n",
    "\n",
    "##headers_list\n",
    "\n",
    "headers_list1 = headers_list [:-1]\n",
    "headers_list1"
   ]
  },
  {
   "cell_type": "code",
   "execution_count": null,
   "id": "be9ce840",
   "metadata": {},
   "outputs": [],
   "source": []
  },
  {
   "cell_type": "markdown",
   "id": "1d78c021",
   "metadata": {},
   "source": [
    "## Data Analysis\n",
    "\n",
    "* Correlation Matrix\n"
   ]
  },
  {
   "cell_type": "code",
   "execution_count": 306,
   "id": "525e9a44",
   "metadata": {},
   "outputs": [
    {
     "data": {
      "text/plain": [
       "<function matplotlib.pyplot.show(close=None, block=None)>"
      ]
     },
     "execution_count": 306,
     "metadata": {},
     "output_type": "execute_result"
    },
    {
     "data": {
      "image/png": "[encoded data removed]",
      "text/plain": [
       "<Figure size 2000x1000 with 2 Axes>"
      ]
     },
     "metadata": {},
     "output_type": "display_data"
    }
   ],
   "source": [
    "cm = np.corrcoef ( Air_raw_data[headers_list1].values.T  )\n",
    "hm = heatmap (cm, row_names = headers_list1, column_names = headers_list1, figsize= (20,10))\n",
    "## heatmap in doorhi turlii medeelliig haruuldag function.\n",
    "## if value was 1, those values have positive correlation \n",
    "## if value was -1, those values have negative correlation\n",
    "## if value was 0, there is no correlation between 2 values\n",
    "## doorhi uzuulsen medeellees quality bolon alcohol 2 iin hoorondin hamaaral hamgiin undur bga gesen medeelel harj boloh n, column quality iin hamgiin undur utga avsan n 0.44 alcohol bn\n",
    "\n",
    "plt.show"
   ]
  },
  {
   "cell_type": "code",
   "execution_count": null,
   "id": "f04d5e9a",
   "metadata": {},
   "outputs": [],
   "source": []
  },
  {
   "cell_type": "markdown",
   "id": "24ed3609",
   "metadata": {},
   "source": [
    "## Process Data"
   ]
  },
  {
   "cell_type": "code",
   "execution_count": 307,
   "id": "28be7723",
   "metadata": {},
   "outputs": [],
   "source": [
    "## Convert Pandas to Numpy\n",
    "## CSV filed bsan datag Pandas aar unshij avsan bsanaa Numpy ruu hurvuulj deer n ajillahad beldej bn\n",
    "\n",
    "Air_raw_data_np = Air_raw_data.to_numpy()\n"
   ]
  },
  {
   "cell_type": "code",
   "execution_count": 308,
   "id": "2870510f",
   "metadata": {},
   "outputs": [
    {
     "data": {
      "text/plain": [
       "array([[81.4, 124.5, 1.44, ..., 0.06, 184.0, 'Moderate'],\n",
       "       [78.32, 129.06, 1.26, ..., 0.08, 197.0, 'Moderate'],\n",
       "       [88.76, 135.32, 6.6, ..., 0.12, 198.0, 'Moderate'],\n",
       "       ...,\n",
       "       [24.38, 74.09, 3.42, ..., 0.38, 70.0, 'Satisfactory'],\n",
       "       [22.91, 65.73, 3.45, ..., 0.0, 68.0, 'Satisfactory'],\n",
       "       [16.64, 49.97, 4.05, ..., 0.0, 54.0, 'Satisfactory']], dtype=object)"
      ]
     },
     "execution_count": 308,
     "metadata": {},
     "output_type": "execute_result"
    }
   ],
   "source": [
    "Air_raw_data_np"
   ]
  },
  {
   "cell_type": "code",
   "execution_count": 309,
   "id": "618ff421",
   "metadata": {},
   "outputs": [
    {
     "data": {
      "text/plain": [
       "(6236, 14)"
      ]
     },
     "execution_count": 309,
     "metadata": {},
     "output_type": "execute_result"
    }
   ],
   "source": [
    "Air_raw_data_np.shape"
   ]
  },
  {
   "cell_type": "code",
   "execution_count": 353,
   "id": "dff59ddb",
   "metadata": {},
   "outputs": [],
   "source": [
    "## indexing data\n",
    "\n",
    "X = Air_raw_data_np [:, :-2]\n",
    "## , buh row iig avna. columns aas suuliin negees busdiin songoj avna (slicing)\n",
    "\n",
    "y = Air_raw_data_np [:,12:13]\n",
    "## hamgiin suuliin baganii buh muriig avna.\n",
    "\n",
    "z = Air_raw_data_np [:,12:14]\n",
    "\n"
   ]
  },
  {
   "cell_type": "code",
   "execution_count": 355,
   "id": "d2dc9097",
   "metadata": {},
   "outputs": [
    {
     "name": "stdout",
     "output_type": "stream",
     "text": [
      "(6236, 12)\n",
      "(6236, 1)\n",
      "[[184.0]\n",
      " [197.0]\n",
      " [198.0]\n",
      " ...\n",
      " [70.0]\n",
      " [68.0]\n",
      " [54.0]]\n"
     ]
    },
    {
     "data": {
      "text/plain": [
       "array([[184.0, 'Moderate'],\n",
       "       [197.0, 'Moderate'],\n",
       "       [198.0, 'Moderate'],\n",
       "       ...,\n",
       "       [70.0, 'Satisfactory'],\n",
       "       [68.0, 'Satisfactory'],\n",
       "       [54.0, 'Satisfactory']], dtype=object)"
      ]
     },
     "execution_count": 355,
     "metadata": {},
     "output_type": "execute_result"
    }
   ],
   "source": [
    "print (X.shape)\n",
    "print (y.shape)\n",
    "\n",
    "\n",
    "print (y)\n",
    "\n",
    "z"
   ]
  },
  {
   "cell_type": "code",
   "execution_count": 330,
   "id": "c7323566",
   "metadata": {},
   "outputs": [],
   "source": [
    "random_seed = int (random.random() *100) ## 42"
   ]
  },
  {
   "cell_type": "code",
   "execution_count": 331,
   "id": "8c24ddde",
   "metadata": {},
   "outputs": [],
   "source": [
    "## split X and y\n",
    "\n",
    "## ugugdliin 80% iig surgaltand, uldse 20% iig surgasan model oo test hiihed ashiglana\n",
    "\n",
    "## daraagiin epoch deer ugugdluu holiod dahin huvaana\n",
    "\n",
    "X_train, X_test, y_train, y_test = train_test_split (X, y, test_size = 0.2, random_state = random_seed)"
   ]
  },
  {
   "cell_type": "code",
   "execution_count": 332,
   "id": "12514880",
   "metadata": {},
   "outputs": [
    {
     "name": "stdout",
     "output_type": "stream",
     "text": [
      "(4988, 12)\n",
      "(1248, 12)\n",
      "(4988, 1)\n",
      "(1248, 1)\n",
      "[[31.74 81.19 31.45 ... 9.67 17.3 2.82]\n",
      " [31.24 50.3 3.28 ... 2.38 5.34 0.74]\n",
      " [242.58 158.08 8.62 ... 3.79 8.3 8.14]\n",
      " ...\n",
      " [121.7 212.35 48.01 ... 0.99 3.39 0.09]\n",
      " [71.06 103.17 3.1 ... 4.61 7.73 3.97]\n",
      " [68.65 139.18 10.23 ... 3.62 21.6 5.69]]\n"
     ]
    }
   ],
   "source": [
    "print (X_train.shape)\n",
    "print (X_test.shape)\n",
    "print (y_train.shape)\n",
    "print (y_test.shape)\n",
    "\n",
    "print (X_train)"
   ]
  },
  {
   "cell_type": "markdown",
   "id": "289b8968",
   "metadata": {},
   "source": [
    "## Fix in case float64 error"
   ]
  },
  {
   "cell_type": "code",
   "execution_count": 333,
   "id": "da9e93fd",
   "metadata": {},
   "outputs": [
    {
     "data": {
      "text/plain": [
       "dtype('O')"
      ]
     },
     "execution_count": 333,
     "metadata": {},
     "output_type": "execute_result"
    }
   ],
   "source": [
    "y_test.dtype ## sometimes torch gives you problem because of data had different data type "
   ]
  },
  {
   "cell_type": "code",
   "execution_count": 334,
   "id": "52148e72",
   "metadata": {},
   "outputs": [],
   "source": [
    "## fix data type\n",
    "\n",
    "X_train = X_train.astype (np.float32)\n",
    "X_test = X_test.astype (np.float32)\n",
    "y_train = y_train.astype (np.float32)\n",
    "y_test = y_test.astype (np.float32)"
   ]
  },
  {
   "cell_type": "code",
   "execution_count": 335,
   "id": "18ac9ec4",
   "metadata": {},
   "outputs": [
    {
     "data": {
      "text/plain": [
       "dtype('float32')"
      ]
     },
     "execution_count": 335,
     "metadata": {},
     "output_type": "execute_result"
    }
   ],
   "source": [
    "X_train.dtype\n",
    "X_test.dtype\n",
    "y_train.dtype\n",
    "y_test.dtype"
   ]
  },
  {
   "cell_type": "code",
   "execution_count": 336,
   "id": "8a7540b2",
   "metadata": {},
   "outputs": [],
   "source": [
    "## convert data to torch from Numpy\n",
    "\n",
    "X_train_tr = torch.from_numpy (X_train)\n",
    "X_test_tr  = torch.from_numpy (X_test)\n",
    "y_train_tr = torch.from_numpy (y_train)\n",
    "y_test_tr  = torch.from_numpy (y_test)\n"
   ]
  },
  {
   "cell_type": "code",
   "execution_count": null,
   "id": "e5ac7837",
   "metadata": {},
   "outputs": [],
   "source": []
  },
  {
   "cell_type": "code",
   "execution_count": null,
   "id": "0a152227",
   "metadata": {},
   "outputs": [],
   "source": []
  },
  {
   "cell_type": "code",
   "execution_count": null,
   "id": "af4b6a49",
   "metadata": {},
   "outputs": [],
   "source": []
  },
  {
   "cell_type": "markdown",
   "id": "e77e7d5f",
   "metadata": {},
   "source": [
    "## XGBoost"
   ]
  },
  {
   "cell_type": "code",
   "execution_count": 337,
   "id": "177df1a5",
   "metadata": {},
   "outputs": [],
   "source": [
    "\n",
    "regressor = xgb.XGBRegressor (\n",
    "        \n",
    "        n_estimators = 100,\n",
    "        reg_lambda = 1,\n",
    "        gamma = 0,\n",
    "        max_depth = 10\n",
    "\n",
    ")\n"
   ]
  },
  {
   "cell_type": "code",
   "execution_count": 338,
   "id": "eb091980",
   "metadata": {},
   "outputs": [
    {
     "data": {
      "text/plain": [
       "XGBRegressor(base_score=0.5, booster='gbtree', callbacks=None,\n",
       "             colsample_bylevel=1, colsample_bynode=1, colsample_bytree=1,\n",
       "             early_stopping_rounds=None, enable_categorical=False,\n",
       "             eval_metric=None, gamma=0, gpu_id=-1, grow_policy='depthwise',\n",
       "             importance_type=None, interaction_constraints='',\n",
       "             learning_rate=0.300000012, max_bin=256, max_cat_to_onehot=4,\n",
       "             max_delta_step=0, max_depth=10, max_leaves=0, min_child_weight=1,\n",
       "             missing=nan, monotone_constraints='()', n_estimators=100, n_jobs=0,\n",
       "             num_parallel_tree=1, predictor='auto', random_state=0, reg_alpha=0,\n",
       "             reg_lambda=1, ...)"
      ]
     },
     "execution_count": 338,
     "metadata": {},
     "output_type": "execute_result"
    }
   ],
   "source": [
    "\n",
    "regressor.fit (X_train, y_train)\n"
   ]
  },
  {
   "cell_type": "code",
   "execution_count": 339,
   "id": "9a60f8c0",
   "metadata": {},
   "outputs": [],
   "source": [
    "\n",
    "y_pred = regressor.predict (X_test)\n"
   ]
  },
  {
   "cell_type": "code",
   "execution_count": 340,
   "id": "0dcc1d9c",
   "metadata": {},
   "outputs": [
    {
     "data": {
      "text/plain": [
       "(1248,)"
      ]
     },
     "execution_count": 340,
     "metadata": {},
     "output_type": "execute_result"
    }
   ],
   "source": [
    "\n",
    "y_pred.shape\n"
   ]
  },
  {
   "cell_type": "code",
   "execution_count": 341,
   "id": "2bf03ec6",
   "metadata": {},
   "outputs": [
    {
     "data": {
      "text/plain": [
       "array([ 54.669453, 127.68533 , 105.88744 , ...,  91.05282 , 297.04138 ,\n",
       "       114.6128  ], dtype=float32)"
      ]
     },
     "execution_count": 341,
     "metadata": {},
     "output_type": "execute_result"
    }
   ],
   "source": [
    "\n",
    "y_pred\n"
   ]
  },
  {
   "cell_type": "code",
   "execution_count": 342,
   "id": "af794be1",
   "metadata": {},
   "outputs": [
    {
     "data": {
      "text/plain": [
       "0.9196517739840159"
      ]
     },
     "execution_count": 342,
     "metadata": {},
     "output_type": "execute_result"
    }
   ],
   "source": [
    "\n",
    "r2_score (y_test, y_pred)\n"
   ]
  },
  {
   "cell_type": "code",
   "execution_count": null,
   "id": "649d78e1",
   "metadata": {},
   "outputs": [],
   "source": []
  },
  {
   "cell_type": "code",
   "execution_count": null,
   "id": "81dd094b",
   "metadata": {},
   "outputs": [],
   "source": []
  },
  {
   "cell_type": "code",
   "execution_count": null,
   "id": "88eb2549",
   "metadata": {},
   "outputs": [],
   "source": []
  },
  {
   "cell_type": "code",
   "execution_count": null,
   "id": "2a15c0d5",
   "metadata": {},
   "outputs": [],
   "source": []
  },
  {
   "cell_type": "markdown",
   "id": "dce50e5e",
   "metadata": {},
   "source": [
    "## Deploy XGBoost Model\n",
    "\n",
    "* ONNX and GitHub"
   ]
  },
  {
   "cell_type": "code",
   "execution_count": 343,
   "id": "70e86704",
   "metadata": {},
   "outputs": [],
   "source": [
    "\n",
    "initial_types = [(\n",
    "            'float_input',\n",
    "            FloatTensorType( [None, 12] )\n",
    "\n",
    ")]\n"
   ]
  },
  {
   "cell_type": "code",
   "execution_count": 344,
   "id": "947a5792",
   "metadata": {},
   "outputs": [],
   "source": [
    "\n",
    "onnx_model = onnxmltools.convert_xgboost(regressor, initial_types = initial_types)\n",
    "\n",
    "onnxmltools.utils.save_model(onnx_model, 'xgboost_AirQuality_ort.onnx')\n"
   ]
  },
  {
   "cell_type": "code",
   "execution_count": 345,
   "id": "0d650ac7",
   "metadata": {},
   "outputs": [],
   "source": [
    "\n",
    "sess = rt.InferenceSession ('xgboost_AirQuality_ort.onnx')\n"
   ]
  },
  {
   "cell_type": "code",
   "execution_count": 346,
   "id": "f6e33a43",
   "metadata": {},
   "outputs": [],
   "source": [
    "\n",
    "input_name = sess.get_inputs () [0].name\n"
   ]
  },
  {
   "cell_type": "code",
   "execution_count": 347,
   "id": "7561fc97",
   "metadata": {},
   "outputs": [
    {
     "data": {
      "text/plain": [
       "'float_input'"
      ]
     },
     "execution_count": 347,
     "metadata": {},
     "output_type": "execute_result"
    }
   ],
   "source": [
    "input_name"
   ]
  },
  {
   "cell_type": "code",
   "execution_count": 348,
   "id": "bf23a962",
   "metadata": {},
   "outputs": [],
   "source": [
    "\n",
    "label_name = sess.get_outputs ()[0].name\n"
   ]
  },
  {
   "cell_type": "code",
   "execution_count": 349,
   "id": "1fdb3e04",
   "metadata": {},
   "outputs": [
    {
     "data": {
      "text/plain": [
       "'variable'"
      ]
     },
     "execution_count": 349,
     "metadata": {},
     "output_type": "execute_result"
    }
   ],
   "source": [
    "label_name"
   ]
  },
  {
   "cell_type": "code",
   "execution_count": 350,
   "id": "d5ec5ea0",
   "metadata": {},
   "outputs": [],
   "source": [
    "\n",
    "pred_ort = sess.run( [label_name], {input_name: X_test.astype(np.float32) } )\n"
   ]
  },
  {
   "cell_type": "code",
   "execution_count": 351,
   "id": "ce938eb6",
   "metadata": {},
   "outputs": [
    {
     "data": {
      "text/plain": [
       "array([[ 54.66945 ],\n",
       "       [127.68526 ],\n",
       "       [105.88747 ],\n",
       "       ...,\n",
       "       [ 91.05282 ],\n",
       "       [297.04144 ],\n",
       "       [114.612816]], dtype=float32)"
      ]
     },
     "execution_count": 351,
     "metadata": {},
     "output_type": "execute_result"
    }
   ],
   "source": [
    "pred_ort [0]"
   ]
  },
  {
   "cell_type": "code",
   "execution_count": null,
   "id": "dbb3fda7",
   "metadata": {},
   "outputs": [],
   "source": []
  },
  {
   "cell_type": "code",
   "execution_count": null,
   "id": "d97fb7a0",
   "metadata": {},
   "outputs": [],
   "source": []
  },
  {
   "cell_type": "code",
   "execution_count": null,
   "id": "6dcedccd",
   "metadata": {},
   "outputs": [],
   "source": []
  },
  {
   "cell_type": "code",
   "execution_count": null,
   "id": "e272919a",
   "metadata": {},
   "outputs": [],
   "source": []
  },
  {
   "cell_type": "code",
   "execution_count": null,
   "id": "aa8fc6d8",
   "metadata": {},
   "outputs": [],
   "source": []
  },
  {
   "cell_type": "code",
   "execution_count": null,
   "id": "ed3f1c5c",
   "metadata": {},
   "outputs": [],
   "source": []
  }
 ],
 "metadata": {
  "kernelspec": {
   "display_name": "Python 3 (ipykernel)",
   "language": "python",
   "name": "python3"
  },
  "language_info": {
   "codemirror_mode": {
    "name": "ipython",
    "version": 3
   },
   "file_extension": ".py",
   "mimetype": "text/x-python",
   "name": "python",
   "nbconvert_exporter": "python",
   "pygments_lexer": "ipython3",
   "version": "3.7.16"
  }
 },
 "nbformat": 4,
 "nbformat_minor": 5
}
