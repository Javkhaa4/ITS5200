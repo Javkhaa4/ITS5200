{
 "cells": [
  {
   "cell_type": "code",
   "execution_count": 1,
   "id": "d8cc593a",
   "metadata": {},
   "outputs": [],
   "source": [
    "import torch\n",
    "import numpy as np\n",
    "\n",
    "import matplotlib.pyplot as plt\n"
   ]
  },
  {
   "cell_type": "code",
   "execution_count": 2,
   "id": "719a9366",
   "metadata": {},
   "outputs": [
    {
     "name": "stdout",
     "output_type": "stream",
     "text": [
      "[4 5 2 6 8]\n"
     ]
    }
   ],
   "source": [
    "a = np.array ([4,5,2,6,8])\n",
    "print (a)"
   ]
  },
  {
   "cell_type": "code",
   "execution_count": 3,
   "id": "584739c4",
   "metadata": {},
   "outputs": [
    {
     "name": "stdout",
     "output_type": "stream",
     "text": [
      "[1. 3. 2. 5.]\n"
     ]
    }
   ],
   "source": [
    "a = np.array ([1,3,2,5] , dtype='float32')\n",
    "print (a)"
   ]
  },
  {
   "cell_type": "code",
   "execution_count": 4,
   "id": "9d5b10c3",
   "metadata": {},
   "outputs": [
    {
     "name": "stdout",
     "output_type": "stream",
     "text": [
      "[list([1, 2, 3]) list([4, 4, 5]) list([6, 2])]\n"
     ]
    },
    {
     "name": "stderr",
     "output_type": "stream",
     "text": [
      "/Users/jack/anaconda3/envs/py37_ITS5200_2/lib/python3.7/site-packages/ipykernel_launcher.py:2: VisibleDeprecationWarning: Creating an ndarray from ragged nested sequences (which is a list-or-tuple of lists-or-tuples-or ndarrays with different lengths or shapes) is deprecated. If you meant to do this, you must specify 'dtype=object' when creating the ndarray.\n",
      "  \n"
     ]
    }
   ],
   "source": [
    "list_of_list = ([1,2,3], [4,4,5], [6,2])\n",
    "b = np.array(list_of_list)\n",
    "print (b)"
   ]
  },
  {
   "cell_type": "code",
   "execution_count": 5,
   "id": "2f106767",
   "metadata": {},
   "outputs": [
    {
     "name": "stdout",
     "output_type": "stream",
     "text": [
      "[0 0 0 0 0 0 0 0 0 0]\n"
     ]
    }
   ],
   "source": [
    "b = np.zeros(10, dtype=int)\n",
    "print (b)"
   ]
  },
  {
   "cell_type": "code",
   "execution_count": 6,
   "id": "fb4d89df",
   "metadata": {},
   "outputs": [
    {
     "name": "stdout",
     "output_type": "stream",
     "text": [
      "[[1. 1. 1. 1. 1. 1.]\n",
      " [1. 1. 1. 1. 1. 1.]]\n"
     ]
    }
   ],
   "source": [
    "b = np.ones((2,6), dtype=float)\n",
    "print (b)"
   ]
  },
  {
   "cell_type": "code",
   "execution_count": 7,
   "id": "feee94a5",
   "metadata": {},
   "outputs": [
    {
     "name": "stdout",
     "output_type": "stream",
     "text": [
      "[[42 42 42]\n",
      " [42 42 42]\n",
      " [42 42 42]]\n"
     ]
    }
   ],
   "source": [
    "b = np.full((3,3), 42)\n",
    "print(b)"
   ]
  },
  {
   "cell_type": "code",
   "execution_count": 8,
   "id": "a9041fd4",
   "metadata": {},
   "outputs": [
    {
     "name": "stdout",
     "output_type": "stream",
     "text": [
      "[ 1  4  7 10 13 16 19 22 25 28]\n"
     ]
    }
   ],
   "source": [
    "b = np.arange (1,30, 3)\n",
    "print (b)"
   ]
  },
  {
   "cell_type": "code",
   "execution_count": 9,
   "id": "f543073e",
   "metadata": {},
   "outputs": [
    {
     "name": "stdout",
     "output_type": "stream",
     "text": [
      "[ 0.          1.11111111  2.22222222  3.33333333  4.44444444  5.55555556\n",
      "  6.66666667  7.77777778  8.88888889 10.        ]\n"
     ]
    }
   ],
   "source": [
    "b= np.linspace (0,10, 10)\n",
    "print (b)"
   ]
  },
  {
   "cell_type": "code",
   "execution_count": 10,
   "id": "f891a68d",
   "metadata": {},
   "outputs": [
    {
     "name": "stdout",
     "output_type": "stream",
     "text": [
      "[[[0.93131042]\n",
      "  [0.43157966]\n",
      "  [0.18661425]]\n",
      "\n",
      " [[0.56100242]\n",
      "  [0.55781776]\n",
      "  [0.23151361]]\n",
      "\n",
      " [[0.85885083]\n",
      "  [0.89724605]\n",
      "  [0.23512842]]\n",
      "\n",
      " [[0.39620177]\n",
      "  [0.5417161 ]\n",
      "  [0.91624013]]\n",
      "\n",
      " [[0.78600859]\n",
      "  [0.95939347]\n",
      "  [0.56225705]]]\n"
     ]
    }
   ],
   "source": [
    "b = np.random.random((5,3,1))\n",
    "print (b)"
   ]
  },
  {
   "cell_type": "code",
   "execution_count": 11,
   "id": "79ac0f16",
   "metadata": {},
   "outputs": [
    {
     "name": "stdout",
     "output_type": "stream",
     "text": [
      "[[[ 0.1800816  -0.07611525 -0.23710778]\n",
      "  [-0.56748097 -0.94805315 -0.24679842]]\n",
      "\n",
      " [[-1.01459189  0.78725041 -1.10000645]\n",
      "  [ 0.07112567  1.17772079  1.17714697]]\n",
      "\n",
      " [[ 0.51273865 -0.48256892  0.21646347]\n",
      "  [-0.00536334 -0.97328424 -0.26882158]]\n",
      "\n",
      " [[ 0.89615999  0.09857591  0.24877866]\n",
      "  [ 0.69529735 -0.45837259 -0.20026276]]]\n"
     ]
    }
   ],
   "source": [
    "## mean 0 and standard deviation 1\n",
    "\n",
    "b = np.random.normal(0,1,(4,2,3))\n",
    "print (b)"
   ]
  },
  {
   "cell_type": "code",
   "execution_count": 12,
   "id": "fceea40b",
   "metadata": {},
   "outputs": [
    {
     "name": "stdout",
     "output_type": "stream",
     "text": [
      "[[1. 0. 0. 0.]\n",
      " [0. 1. 0. 0.]\n",
      " [0. 0. 1. 0.]\n",
      " [0. 0. 0. 1.]]\n"
     ]
    }
   ],
   "source": [
    "## indentity matrix\n",
    "\n",
    "b= np.eye(4)\n",
    "print (b)"
   ]
  },
  {
   "cell_type": "code",
   "execution_count": 13,
   "id": "7274ce2e",
   "metadata": {},
   "outputs": [
    {
     "name": "stdout",
     "output_type": "stream",
     "text": [
      "[13 11  7 19  5 17]\n",
      "[[17 15  3 14]\n",
      " [12 13 19 10]\n",
      " [ 9 16  7  9]]\n",
      "[[[14 11 13 12 17  6]\n",
      "  [ 6 19  9 10  1  0]\n",
      "  [12 14 15  3 14  6]\n",
      "  [ 0  9  9 12  2 18]]\n",
      "\n",
      " [[ 2 18  4  0  2 18]\n",
      "  [ 5  3  7 15 12  7]\n",
      "  [18 11  6  9 15 17]\n",
      "  [ 1  6 19 10 15  7]]\n",
      "\n",
      " [[15  5 15  9  9 13]\n",
      "  [14 10  9  1 11  6]\n",
      "  [ 5 18 18  5 10  3]\n",
      "  [ 7  7  8 12 19 14]]]\n",
      "b2 dimension 2\n",
      "b3 shape (3, 4, 6)\n",
      "data type of b3 int64\n"
     ]
    }
   ],
   "source": [
    "b1 = np.random.randint(20, size =6)\n",
    "b2 = np.random.randint(20, size =(3,4))\n",
    "b3 = np.random.randint(20, size = (3,4,6))\n",
    "print (b1)\n",
    "print (b2)\n",
    "print (b3)\n",
    "\n",
    "print (\"b2 dimension\", b2.ndim)\n",
    "print(\"b3 shape\", b3.shape)\n",
    "print(\"data type of b3\", b3.dtype)"
   ]
  },
  {
   "cell_type": "code",
   "execution_count": 14,
   "id": "604b6851",
   "metadata": {},
   "outputs": [
    {
     "name": "stdout",
     "output_type": "stream",
     "text": [
      "[1. 3. 2. 5.]\n",
      "first num 1.0\n",
      "third num 2.0\n",
      "last num 5.0\n",
      "before last num 2.0\n"
     ]
    }
   ],
   "source": [
    "## indexing\n",
    "a = np.array([1,3,2,5], dtype='float32')\n",
    "print(a)\n",
    "print (\"first num\", a[0])\n",
    "print(\"third num\", a[2])\n",
    "print(\"last num\", a[-1])\n",
    "print (\"before last num\", a[-2])"
   ]
  },
  {
   "cell_type": "code",
   "execution_count": 15,
   "id": "f290f6b6",
   "metadata": {},
   "outputs": [
    {
     "name": "stdout",
     "output_type": "stream",
     "text": [
      "[[ 1  2  3  4]\n",
      " [ 5  6  7  8]\n",
      " [ 9 10 11 12]]\n",
      "first 1\n",
      "last num 12\n"
     ]
    }
   ],
   "source": [
    "## indexing\n",
    "a = np.array ([[1,2,3,4],\n",
    "              [5,6,7,8],\n",
    "              [9,10,11,12]\n",
    "              ])\n",
    "\n",
    "print (a)\n",
    "print (\"first\", a[0,0])\n",
    "print(\"last num\", a[2,-1])"
   ]
  },
  {
   "cell_type": "code",
   "execution_count": 16,
   "id": "ca698e12",
   "metadata": {},
   "outputs": [
    {
     "name": "stdout",
     "output_type": "stream",
     "text": [
      "[ 0  1  2  3  4  5  6  7  8  9 10 11 12 13 14]\n",
      "first 4 elements [0 1 2 3]\n",
      "all after 3 [ 3  4  5  6  7  8  9 10 11 12 13 14]\n",
      "even indeces [ 0  2  4  6  8 10 12 14]\n",
      "uneven indeces [ 1  3  5  7  9 11 13]\n",
      "reverse [14 13 12 11 10  9  8  7  6  5  4  3  2  1  0]\n"
     ]
    }
   ],
   "source": [
    "## slicing\n",
    "\n",
    "x = np.arange(15)\n",
    "print (x)\n",
    "print (\"first 4 elements\", x[:4])\n",
    "print (\"all after 3\", x[3:])\n",
    "print (\"even indeces\", x[::2]) ##starts at 0   ## 2 is the step size\n",
    "print (\"uneven indeces\", x[1::2]) ## starts at 1\n",
    "print (\"reverse\", x[::-1]) ## step value is negetive starts at last element"
   ]
  },
  {
   "cell_type": "code",
   "execution_count": 17,
   "id": "d3ca126a",
   "metadata": {},
   "outputs": [
    {
     "name": "stdout",
     "output_type": "stream",
     "text": [
      "[[ 1  2  3  4]\n",
      " [ 5  6  7  8]\n",
      " [ 9 10 11 12]]\n",
      " \n",
      "[[1 2]\n",
      " [5 6]]\n"
     ]
    }
   ],
   "source": [
    "## slicing\n",
    "\n",
    "a = np.array ([[1,2,3,4],\n",
    "              [5,6,7,8],\n",
    "              [9,10,11,12]\n",
    "              ])\n",
    "print (a)\n",
    "print (\" \")\n",
    "print (a[:2,:2])"
   ]
  },
  {
   "cell_type": "code",
   "execution_count": 18,
   "id": "5b0cd2dc",
   "metadata": {},
   "outputs": [
    {
     "name": "stdout",
     "output_type": "stream",
     "text": [
      "[[ 1  2  3  4]\n",
      " [ 5  6  7  8]\n",
      " [ 9 10 11 12]]\n",
      "a[:-1,:-1]\n",
      "[[1 2 3]\n",
      " [5 6 7]]\n"
     ]
    }
   ],
   "source": [
    "a = np.array ([[1,2,3,4],\n",
    "              [5,6,7,8],\n",
    "              [9,10,11,12]\n",
    "              ])\n",
    "print (a)\n",
    "print (\"a[:-1,:-1]\")\n",
    "print (a[:-1,:-1])"
   ]
  },
  {
   "cell_type": "code",
   "execution_count": 19,
   "id": "457451ae",
   "metadata": {},
   "outputs": [
    {
     "name": "stdout",
     "output_type": "stream",
     "text": [
      "[[ 1  2  3  4]\n",
      " [ 5  6  7  8]\n",
      " [ 9 10 11 12]]\n",
      "a[:-1,:-1]\n",
      "[[1 2]\n",
      " [5 6]]\n"
     ]
    }
   ],
   "source": [
    "a = np.array ([[1,2,3,4],\n",
    "              [5,6,7,8],\n",
    "              [9,10,11,12]\n",
    "              ])\n",
    "print (a)\n",
    "print (\"a[:-1,:-1]\")\n",
    "print (a[:-1,:-2])"
   ]
  },
  {
   "cell_type": "code",
   "execution_count": 20,
   "id": "2520ab16",
   "metadata": {},
   "outputs": [
    {
     "name": "stdout",
     "output_type": "stream",
     "text": [
      "[ 0  1  2  3  4  5  6  7  8  9 10 11 12 13 14]\n",
      "shift right [ 0  1  2  3  4  5  6  7  8  9 10 11 12 13]\n",
      "shift left [ 1  2  3  4  5  6  7  8  9 10 11 12 13 14]\n"
     ]
    }
   ],
   "source": [
    "## shifting\n",
    "\n",
    "x = np.arange (15)\n",
    "print (x)\n",
    "print (\"shift right\", x[:-1])\n",
    "print (\"shift left\", x[1:])\n"
   ]
  },
  {
   "cell_type": "code",
   "execution_count": 35,
   "id": "44fdf36a",
   "metadata": {},
   "outputs": [
    {
     "name": "stdout",
     "output_type": "stream",
     "text": [
      "[[ 1  2  3  4]\n",
      " [ 5  6  7  8]\n",
      " [ 9 10 11 12]]\n",
      "column 1\n",
      "[ 2  6 10]\n"
     ]
    }
   ],
   "source": [
    "a = np.array([[1, 2, 3, 4],\n",
    "              [5, 6, 7, 8],\n",
    "              [9, 10, 11, 12]] )\n",
    "print(a)\n",
    "print (\"column 1\")\n",
    "print (a[ :, 1])"
   ]
  },
  {
   "cell_type": "code",
   "execution_count": 22,
   "id": "1ffc963f",
   "metadata": {},
   "outputs": [
    {
     "name": "stdout",
     "output_type": "stream",
     "text": [
      "[[ 1  2  3  4]\n",
      " [ 5  6  7  8]\n",
      " [ 9 10 11 12]]\n",
      "row 1 \n",
      "[5 6 7 8]\n"
     ]
    }
   ],
   "source": [
    "a = np.array([[1, 2, 3, 4],\n",
    "              [5, 6, 7, 8],\n",
    "              [9, 10, 11, 12]] )\n",
    "print(a)\n",
    "print(\"row 1 \")\n",
    "print(a[1, :])"
   ]
  },
  {
   "cell_type": "code",
   "execution_count": 23,
   "id": "6333fb7a",
   "metadata": {},
   "outputs": [
    {
     "name": "stdout",
     "output_type": "stream",
     "text": [
      "[[ 1  2  3  4]\n",
      " [ 5  6  7  8]\n",
      " [ 9 10 11 12]]\n",
      "[[1 2]\n",
      " [5 6]]\n",
      "[[89  2  3  4]\n",
      " [ 5  6  7  8]\n",
      " [ 9 10 11 12]]\n",
      "[[89  2  3  4]\n",
      " [ 5  6  7  8]\n",
      " [ 9 10 11 12]]\n",
      "[[89  2  3  4]\n",
      " [ 5  6  7  8]\n",
      " [ 9 10 11 12]]\n",
      "[[55  2]\n",
      " [ 5  6]]\n"
     ]
    }
   ],
   "source": [
    "## slicing is numpy does not copy array but\n",
    "## instead still modifies the original.\n",
    "## to copy use .copy()\n",
    "a = np.array([[1, 2, 3, 4],\n",
    "              [5, 6, 7, 8],\n",
    "              [9, 10, 11, 12]] )\n",
    "\n",
    "new_a = a [:2, :2]\n",
    "print (a)\n",
    "print (new_a)\n",
    "\n",
    "new_a[0,0] = 89\n",
    "print (a)\n",
    "\n",
    "new_a2 = a[:2, :2].copy()\n",
    "print (a)\n",
    "\n",
    "new_a2[0,0] = 55\n",
    "print (a)\n",
    "print (new_a2)"
   ]
  },
  {
   "cell_type": "code",
   "execution_count": 24,
   "id": "957eb3f3",
   "metadata": {},
   "outputs": [
    {
     "name": "stdout",
     "output_type": "stream",
     "text": [
      "[1 2 3 4 5 6 7 8 9]\n",
      "[[1 2 3]\n",
      " [4 5 6]\n",
      " [7 8 9]]\n"
     ]
    }
   ],
   "source": [
    "a = np.arange(1,10)\n",
    "b = a.reshape ((3,3))\n",
    "\n",
    "print (a)\n",
    "print (b)"
   ]
  },
  {
   "cell_type": "code",
   "execution_count": 25,
   "id": "ba780ec5",
   "metadata": {},
   "outputs": [
    {
     "name": "stdout",
     "output_type": "stream",
     "text": [
      "reshape as row vector with reshape [[1 2 3 4 5]]\n",
      "reshape as row vector with newaxis [[5 5 5 5 5]]\n",
      "reshape as column vector with newaxis\n",
      "[[5]\n",
      " [5]\n",
      " [5]\n",
      " [5]\n",
      " [5]]\n",
      "reshape matrix m[:, np.newaxis, np.newaxis, :] with newaxis \n",
      "[[[[ 1  2  3  4]]]\n",
      "\n",
      "\n",
      " [[[ 5  6  7  8]]]\n",
      "\n",
      "\n",
      " [[[ 9 10 11 12]]]]\n",
      "[[[[ 1]\n",
      "   [ 2]\n",
      "   [ 3]\n",
      "   [ 4]]\n",
      "\n",
      "  [[ 5]\n",
      "   [ 6]\n",
      "   [ 7]\n",
      "   [ 8]]\n",
      "\n",
      "  [[ 9]\n",
      "   [10]\n",
      "   [11]\n",
      "   [12]]]]\n"
     ]
    }
   ],
   "source": [
    "v = np.array(  [1, 2, 3, 4, 5]  )\n",
    "v1 = np.array(  [5, 5, 5, 5, 5]  )\n",
    "\n",
    "m = np.array([[1, 2, 3, 4],\n",
    "              [5, 6, 7, 8],\n",
    "              [9, 10, 11, 12]] )\n",
    "\n",
    "print (\"reshape as row vector with reshape\", v.reshape ((1,5)))\n",
    "print (\"reshape as row vector with newaxis\", v1[np.newaxis,:])\n",
    "print (\"reshape as column vector with newaxis\")\n",
    "print (v1[:, np.newaxis])\n",
    "print (\"reshape matrix m[:, np.newaxis, np.newaxis, :] with newaxis \")\n",
    "print ( m[:,np.newaxis, np.newaxis,:])\n",
    "print (m[np.newaxis,:,:, np.newaxis])"
   ]
  },
  {
   "cell_type": "code",
   "execution_count": 26,
   "id": "7fb2fb68",
   "metadata": {},
   "outputs": [
    {
     "name": "stdout",
     "output_type": "stream",
     "text": [
      "[1 2 3 4]\n",
      "[5 6 7 8]\n",
      "[ 9 10 11]\n",
      "concatenate a with b [1 2 3 4 5 6 7 8]\n",
      "concatenate a with b with c [ 1  2  3  4  5  6  7  8  9 10 11]\n"
     ]
    }
   ],
   "source": [
    "a = np.array([1,2,3,4])\n",
    "b = np.array([5,6,7,8])\n",
    "c = np.array([9,10,11])\n",
    "ab = np.concatenate ([a,b])\n",
    "abc = np.concatenate ([a,b,c])\n",
    "print(a)\n",
    "print(b)\n",
    "print(c)\n",
    "print(\"concatenate a with b\", ab)\n",
    "print(\"concatenate a with b with c\", abc)"
   ]
  },
  {
   "cell_type": "code",
   "execution_count": 27,
   "id": "49da3172",
   "metadata": {},
   "outputs": [
    {
     "name": "stdout",
     "output_type": "stream",
     "text": [
      "[[1 2 3]\n",
      " [4 5 6]\n",
      " [7 8 9]]\n",
      "[[10 11 12]\n",
      " [13 14 14]\n",
      " [16 17 18]]\n",
      "m1 m2 concat axis 0 \n",
      "[[ 1  2  3]\n",
      " [ 4  5  6]\n",
      " [ 7  8  9]\n",
      " [10 11 12]\n",
      " [13 14 14]\n",
      " [16 17 18]]\n"
     ]
    }
   ],
   "source": [
    "m1 = np.array([ [1,2,3],\n",
    "                [4,5,6],\n",
    "                [7,8,9]  ])\n",
    "                \n",
    "m2 = np.array([ [10,11,12],\n",
    "                [13,14,14],\n",
    "                [16,17,18]  ])\n",
    "                \n",
    "print(m1)\n",
    "print(m2)\n",
    "m1_m2_concat = np.concatenate([m1, m2], axis=0)\n",
    "print(\"m1 m2 concat axis 0 \")\n",
    "print(m1_m2_concat)"
   ]
  },
  {
   "cell_type": "code",
   "execution_count": 28,
   "id": "f5c46329",
   "metadata": {},
   "outputs": [
    {
     "name": "stdout",
     "output_type": "stream",
     "text": [
      "[[1 2 3]\n",
      " [4 5 6]\n",
      " [7 8 9]]\n",
      "[[10 11 12]\n",
      " [13 14 14]\n",
      " [16 17 18]]\n",
      "m1,m2 concatenate axis 1\n",
      "[[ 1  2  3 10 11 12]\n",
      " [ 4  5  6 13 14 14]\n",
      " [ 7  8  9 16 17 18]]\n"
     ]
    }
   ],
   "source": [
    "m1 = np.array([ [1,2,3],\n",
    "                [4,5,6],\n",
    "                [7,8,9]  ])\n",
    "                \n",
    "m2 = np.array([ [10,11,12],\n",
    "                [13,14,14],\n",
    "                [16,17,18]  ])\n",
    "                \n",
    "print(m1)\n",
    "print(m2)\n",
    "m1_m2_concat= np.concatenate([m1,m2], axis = 1)\n",
    "print (\"m1,m2 concatenate axis 1\")\n",
    "print (m1_m2_concat)"
   ]
  },
  {
   "cell_type": "code",
   "execution_count": 29,
   "id": "4830b17e",
   "metadata": {},
   "outputs": [
    {
     "name": "stdout",
     "output_type": "stream",
     "text": [
      "[[1 2 3]\n",
      " [4 5 6]\n",
      " [7 8 9]]\n",
      "[[10 11 12]\n",
      " [13 14 14]\n",
      " [16 17 18]]\n",
      "vstack\n",
      "[[ 1  2  3]\n",
      " [ 4  5  6]\n",
      " [ 7  8  9]\n",
      " [10 11 12]\n",
      " [13 14 14]\n",
      " [16 17 18]]\n",
      "hstack\n",
      "[[ 1  2  3 10 11 12]\n",
      " [ 4  5  6 13 14 14]\n",
      " [ 7  8  9 16 17 18]]\n"
     ]
    }
   ],
   "source": [
    "## np.vstack -->> vertical stack\n",
    "## np.hstack -->> horizontal stack\n",
    "\n",
    "m1 = np.array([ [1,2,3],\n",
    "                [4,5,6],\n",
    "                [7,8,9]  ])\n",
    "                \n",
    "m2 = np.array([ [10,11,12],\n",
    "                [13,14,14],\n",
    "                [16,17,18]  ])\n",
    "                \n",
    "print(m1)\n",
    "print(m2)\n",
    "\n",
    "m1_m2_concat = np.vstack ([m1,m2])\n",
    "print (\"vstack\")\n",
    "print (m1_m2_concat)\n",
    "\n",
    "m1_m2_concat2 = np.hstack ([m1,m2])\n",
    "print (\"hstack\")\n",
    "print (m1_m2_concat2)"
   ]
  },
  {
   "cell_type": "code",
   "execution_count": 30,
   "id": "9f7bbff4",
   "metadata": {},
   "outputs": [
    {
     "name": "stdout",
     "output_type": "stream",
     "text": [
      "[1 2 3 4]\n",
      "x +10 [11 12 13 14]\n",
      "x -10 [-9 -8 -7 -6]\n",
      "x *10 [10 20 30 40]\n",
      "x /2 [0.5 1.  1.5 2. ]\n",
      "-x [-1 -2 -3 -4]\n",
      "x **3 [ 1  8 27 64]\n",
      "4^x [  4  16  64 256]\n",
      "  np.log(x)  [0.         0.69314718 1.09861229 1.38629436]\n",
      " np.log2(x) [0.        1.        1.5849625 2.       ]\n",
      "np.log10(x) [0.         0.30103    0.47712125 0.60205999]\n"
     ]
    }
   ],
   "source": [
    "## math operations in numpy\n",
    "\n",
    "x = np.array ([1,2,3,4])\n",
    "print (x)\n",
    "print (\"x +10\", x+10)\n",
    "print (\"x -10\", x-10)\n",
    "print (\"x *10\", x*10)\n",
    "print (\"x /2\", x/2)\n",
    "print (\"-x\", -x)\n",
    "print (\"x **3\", x **3)\n",
    "print (\"4^x\", np.power(4,x))\n",
    "print(\"  np.log(x) \", np.log(x))\n",
    "print(\" np.log2(x)\", np.log2(x))\n",
    "print(\"np.log10(x)\", np.log10(x) )\n"
   ]
  },
  {
   "cell_type": "code",
   "execution_count": 31,
   "id": "8ccb8ae3",
   "metadata": {},
   "outputs": [
    {
     "name": "stdout",
     "output_type": "stream",
     "text": [
      "[0. 1. 2. 3. 4. 5. 6. 7. 8. 9.]\n",
      "np.sin\n",
      "[ 0.          0.84147098  0.90929743  0.14112001 -0.7568025  -0.95892427\n",
      " -0.2794155   0.6569866   0.98935825  0.41211849]\n"
     ]
    }
   ],
   "source": [
    "                 ## min max n_samples\n",
    "angles = np.linspace(0,  9,  10)\n",
    "print (angles)\n",
    "print (\"np.sin\")\n",
    "print (np.sin(angles))"
   ]
  },
  {
   "cell_type": "code",
   "execution_count": 32,
   "id": "c6126366",
   "metadata": {},
   "outputs": [
    {
     "name": "stdout",
     "output_type": "stream",
     "text": [
      "[1 2 3 4 5]\n",
      "np.add.reduce(x)= 15\n",
      "np.multiply.reduce(x)= 120\n",
      "np.sum(x)= 15\n",
      "np.min(x)= 1\n",
      "np.max(x)= 5\n"
     ]
    }
   ],
   "source": [
    "## aggregates and others\n",
    "## tf.reduce_sum() in tensorflow\n",
    "\n",
    "x = np.array( [1 , 2, 3, 4, 5]  )\n",
    "print(x)\n",
    "print (\"np.add.reduce(x)=\", np.add.reduce(x))\n",
    "print (\"np.multiply.reduce(x)=\", np.multiply.reduce(x))\n",
    "print (\"np.sum(x)=\", np.sum(x))\n",
    "print (\"np.min(x)=\", np.min(x))\n",
    "print (\"np.max(x)=\", np.max(x))"
   ]
  },
  {
   "cell_type": "code",
   "execution_count": null,
   "id": "d774e4ec",
   "metadata": {},
   "outputs": [],
   "source": []
  },
  {
   "cell_type": "code",
   "execution_count": null,
   "id": "b31dd982",
   "metadata": {},
   "outputs": [],
   "source": []
  },
  {
   "cell_type": "code",
   "execution_count": null,
   "id": "da38d4bc",
   "metadata": {},
   "outputs": [],
   "source": []
  },
  {
   "cell_type": "code",
   "execution_count": null,
   "id": "671a7cf5",
   "metadata": {},
   "outputs": [],
   "source": []
  },
  {
   "cell_type": "code",
   "execution_count": null,
   "id": "7b86fca6",
   "metadata": {},
   "outputs": [],
   "source": []
  },
  {
   "cell_type": "code",
   "execution_count": null,
   "id": "8381b044",
   "metadata": {},
   "outputs": [],
   "source": []
  },
  {
   "cell_type": "code",
   "execution_count": null,
   "id": "22f22e1d",
   "metadata": {},
   "outputs": [],
   "source": []
  },
  {
   "cell_type": "code",
   "execution_count": null,
   "id": "e28b9889",
   "metadata": {},
   "outputs": [],
   "source": []
  },
  {
   "cell_type": "code",
   "execution_count": null,
   "id": "4c37789d",
   "metadata": {},
   "outputs": [],
   "source": []
  },
  {
   "cell_type": "code",
   "execution_count": null,
   "id": "05d2e0e4",
   "metadata": {},
   "outputs": [],
   "source": []
  }
 ],
 "metadata": {
  "kernelspec": {
   "display_name": "Python 3 (ipykernel)",
   "language": "python",
   "name": "python3"
  },
  "language_info": {
   "codemirror_mode": {
    "name": "ipython",
    "version": 3
   },
   "file_extension": ".py",
   "mimetype": "text/x-python",
   "name": "python",
   "nbconvert_exporter": "python",
   "pygments_lexer": "ipython3",
   "version": "3.7.16"
  }
 },
 "nbformat": 4,
 "nbformat_minor": 5
}
