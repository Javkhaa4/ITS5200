{
 "cells": [
  {
   "cell_type": "code",
   "execution_count": 1,
   "id": "95519904",
   "metadata": {},
   "outputs": [],
   "source": [
    "import torch\n",
    "import numpy as np\n"
   ]
  },
  {
   "cell_type": "code",
   "execution_count": 2,
   "id": "2ff7a6e2",
   "metadata": {},
   "outputs": [
    {
     "name": "stdout",
     "output_type": "stream",
     "text": [
      "tensor([1., 1., 1.])\n"
     ]
    }
   ],
   "source": [
    "a = torch.ones (3)\n",
    "print (a)"
   ]
  },
  {
   "cell_type": "code",
   "execution_count": 3,
   "id": "38c0fe69",
   "metadata": {},
   "outputs": [
    {
     "name": "stdout",
     "output_type": "stream",
     "text": [
      "tensor([ 1.,  1., 17.])\n"
     ]
    }
   ],
   "source": [
    "a [2] = 17\n",
    "print (a)"
   ]
  },
  {
   "cell_type": "code",
   "execution_count": 4,
   "id": "a3897e29",
   "metadata": {},
   "outputs": [
    {
     "data": {
      "text/plain": [
       "tensor([4., 1., 5., 3., 2., 1.])"
      ]
     },
     "execution_count": 4,
     "metadata": {},
     "output_type": "execute_result"
    }
   ],
   "source": [
    "## convert to torch.tensor\n",
    "b =[4.0, 1.0, 5.0, 3.0, 2.0, 1.0]\n",
    "b_t= torch.tensor(b)\n",
    "b_t"
   ]
  },
  {
   "cell_type": "code",
   "execution_count": 5,
   "id": "6d3fc2d1",
   "metadata": {},
   "outputs": [
    {
     "data": {
      "text/plain": [
       "tensor([[4., 1.],\n",
       "        [5., 3.],\n",
       "        [2., 1.]])"
      ]
     },
     "execution_count": 5,
     "metadata": {},
     "output_type": "execute_result"
    }
   ],
   "source": [
    "## convert to torch tensor\n",
    "c=[[4.0, 1.0], [5.0, 3.0], [2.0, 1.0]]\n",
    "c_t = torch.tensor (c)\n",
    "c_t"
   ]
  },
  {
   "cell_type": "code",
   "execution_count": 6,
   "id": "9710164a",
   "metadata": {},
   "outputs": [
    {
     "name": "stdout",
     "output_type": "stream",
     "text": [
      "torch.Size([3, 2])\n"
     ]
    }
   ],
   "source": [
    "## print shape\n",
    "print (c_t.shape)"
   ]
  },
  {
   "cell_type": "code",
   "execution_count": 7,
   "id": "134c0f7e",
   "metadata": {},
   "outputs": [
    {
     "name": "stdout",
     "output_type": "stream",
     "text": [
      "tensor([[0., 0.],\n",
      "        [0., 0.],\n",
      "        [0., 0.]])\n"
     ]
    }
   ],
   "source": [
    "\n",
    "d_t = torch.zeros(3,2)\n",
    "print (d_t)"
   ]
  },
  {
   "cell_type": "code",
   "execution_count": 8,
   "id": "c06327b4",
   "metadata": {},
   "outputs": [
    {
     "name": "stdout",
     "output_type": "stream",
     "text": [
      "tensor([[ 0., 17.],\n",
      "        [ 0.,  0.],\n",
      "        [ 0.,  0.]])\n",
      "tensor([[ 0., 17.],\n",
      "        [ 0., 14.],\n",
      "        [ 0.,  0.]])\n"
     ]
    }
   ],
   "source": [
    "## indexing\n",
    "\n",
    "d_t [0,1] = 17\n",
    "print (d_t)\n",
    "\n",
    "d_t [1,1] = 14\n",
    "print (d_t)"
   ]
  },
  {
   "cell_type": "code",
   "execution_count": 9,
   "id": "4224e53c",
   "metadata": {},
   "outputs": [
    {
     "name": "stdout",
     "output_type": "stream",
     "text": [
      "tensor([[ 0., 17.],\n",
      "        [ 0., 14.],\n",
      "        [ 0.,  0.]])\n"
     ]
    }
   ],
   "source": [
    "## slicing\n",
    "\n",
    "d_t [1,:]\n",
    "print (d_t)"
   ]
  },
  {
   "cell_type": "code",
   "execution_count": 10,
   "id": "30c16752",
   "metadata": {},
   "outputs": [
    {
     "data": {
      "text/plain": [
       "torch.Size([3, 2])"
      ]
     },
     "execution_count": 10,
     "metadata": {},
     "output_type": "execute_result"
    }
   ],
   "source": [
    "## shape\n",
    "\n",
    "d_t.shape\n"
   ]
  },
  {
   "cell_type": "code",
   "execution_count": 11,
   "id": "45e2ca9f",
   "metadata": {},
   "outputs": [
    {
     "name": "stdout",
     "output_type": "stream",
     "text": [
      "tensor([[[ 0.],\n",
      "         [17.]],\n",
      "\n",
      "        [[ 0.],\n",
      "         [14.]],\n",
      "\n",
      "        [[ 0.],\n",
      "         [ 0.]]])\n"
     ]
    }
   ],
   "source": [
    "## unsqueese ... means 3D\n",
    "\n",
    "d_t_unsqueeze = d_t[..., None]\n",
    "\n",
    "print (d_t_unsqueeze)"
   ]
  },
  {
   "cell_type": "code",
   "execution_count": 12,
   "id": "7fd4711e",
   "metadata": {},
   "outputs": [
    {
     "data": {
      "text/plain": [
       "torch.Size([1, 3, 2])"
      ]
     },
     "execution_count": 12,
     "metadata": {},
     "output_type": "execute_result"
    }
   ],
   "source": [
    "d_t_unsqueeze = d_t[None, ...]\n",
    "d_t_unsqueeze.shape\n"
   ]
  },
  {
   "cell_type": "code",
   "execution_count": 13,
   "id": "e05593d9",
   "metadata": {},
   "outputs": [
    {
     "name": "stdout",
     "output_type": "stream",
     "text": [
      "tensor([[[[0.0111, 0.3038, 0.8065, 0.8694, 0.3658],\n",
      "          [0.0178, 0.8467, 0.5241, 0.6227, 0.8853],\n",
      "          [0.7299, 0.5714, 0.1390, 0.9347, 0.8943],\n",
      "          [0.2104, 0.8449, 0.0109, 0.5793, 0.5994],\n",
      "          [0.9999, 0.7398, 0.2922, 0.7870, 0.5668]],\n",
      "\n",
      "         [[0.0670, 0.0437, 0.7537, 0.4795, 0.6276],\n",
      "          [0.2259, 0.8546, 0.6202, 0.7366, 0.5439],\n",
      "          [0.9084, 0.0670, 0.5273, 0.8952, 0.1003],\n",
      "          [0.3863, 0.6317, 0.4147, 0.2537, 0.8148],\n",
      "          [0.7981, 0.0990, 0.3291, 0.2753, 0.5850]],\n",
      "\n",
      "         [[0.8982, 0.8756, 0.7584, 0.0125, 0.8613],\n",
      "          [0.6004, 0.7569, 0.3784, 0.0293, 0.7291],\n",
      "          [0.5773, 0.9656, 0.1224, 0.8993, 0.0283],\n",
      "          [0.4063, 0.8642, 0.2973, 0.3079, 0.8149],\n",
      "          [0.2502, 0.5632, 0.2529, 0.4479, 0.9814]]],\n",
      "\n",
      "\n",
      "        [[[0.5981, 0.5756, 0.1444, 0.3568, 0.5157],\n",
      "          [0.9926, 0.4062, 0.6297, 0.0580, 0.6058],\n",
      "          [0.9525, 0.2502, 0.4844, 0.9684, 0.7443],\n",
      "          [0.3855, 0.0029, 0.2538, 0.0192, 0.4342],\n",
      "          [0.1801, 0.2655, 0.7828, 0.7053, 0.4090]],\n",
      "\n",
      "         [[0.9598, 0.2494, 0.4710, 0.6540, 0.2036],\n",
      "          [0.9607, 0.4688, 0.2482, 0.3783, 0.8249],\n",
      "          [0.2748, 0.0551, 0.3818, 0.0977, 0.7027],\n",
      "          [0.6092, 0.0125, 0.1384, 0.4273, 0.5543],\n",
      "          [0.7320, 0.7754, 0.0549, 0.5425, 0.0016]],\n",
      "\n",
      "         [[0.0582, 0.8307, 0.7464, 0.2464, 0.8712],\n",
      "          [0.4248, 0.3576, 0.9158, 0.5354, 0.2071],\n",
      "          [0.2954, 0.7305, 0.2705, 0.0132, 0.6003],\n",
      "          [0.1847, 0.5008, 0.5720, 0.9146, 0.2743],\n",
      "          [0.7237, 0.0601, 0.9448, 0.6304, 0.9151]]]])\n"
     ]
    },
    {
     "data": {
      "text/plain": [
       "torch.Size([2, 3, 5, 5])"
      ]
     },
     "execution_count": 13,
     "metadata": {},
     "output_type": "execute_result"
    }
   ],
   "source": [
    "## color picture example \n",
    "\n",
    "batch_t = torch.rand (2,3,5,5) ## first one is batch, 2nd is channels for RGB, 3rt is 32, rows, columns\n",
    "print (batch_t)\n",
    "batch_t.shape"
   ]
  },
  {
   "cell_type": "code",
   "execution_count": 14,
   "id": "5916266a",
   "metadata": {},
   "outputs": [
    {
     "data": {
      "text/plain": [
       "torch.float64"
      ]
     },
     "execution_count": 14,
     "metadata": {},
     "output_type": "execute_result"
    }
   ],
   "source": [
    "## data types (sometimes, ph changed data type on assignment or problems)\n",
    "\n",
    "double_points = torch.ones (10,2, dtype = torch.double)\n",
    "double_points\n",
    "double_points.dtype"
   ]
  },
  {
   "cell_type": "code",
   "execution_count": 15,
   "id": "994b39ba",
   "metadata": {},
   "outputs": [],
   "source": [
    "## torch to numpy\n",
    "\n",
    "points = torch.ones(3,4)"
   ]
  },
  {
   "cell_type": "code",
   "execution_count": 16,
   "id": "a6f7afbe",
   "metadata": {},
   "outputs": [
    {
     "data": {
      "text/plain": [
       "tensor([[1., 1., 1., 1.],\n",
       "        [1., 1., 1., 1.],\n",
       "        [1., 1., 1., 1.]])"
      ]
     },
     "execution_count": 16,
     "metadata": {},
     "output_type": "execute_result"
    }
   ],
   "source": [
    "points"
   ]
  },
  {
   "cell_type": "code",
   "execution_count": 17,
   "id": "bd8628fe",
   "metadata": {},
   "outputs": [
    {
     "data": {
      "text/plain": [
       "array([[1., 1., 1., 1.],\n",
       "       [1., 1., 1., 1.],\n",
       "       [1., 1., 1., 1.]], dtype=float32)"
      ]
     },
     "execution_count": 17,
     "metadata": {},
     "output_type": "execute_result"
    }
   ],
   "source": [
    "points_np = points.numpy ()\n",
    "points_np"
   ]
  },
  {
   "cell_type": "code",
   "execution_count": 18,
   "id": "f4e45f29",
   "metadata": {},
   "outputs": [
    {
     "data": {
      "text/plain": [
       "tensor([[1., 1., 1., 1.],\n",
       "        [1., 1., 1., 1.],\n",
       "        [1., 1., 1., 1.]])"
      ]
     },
     "execution_count": 18,
     "metadata": {},
     "output_type": "execute_result"
    }
   ],
   "source": [
    "points_t = torch.from_numpy (points_np)\n",
    "points_t"
   ]
  },
  {
   "cell_type": "code",
   "execution_count": null,
   "id": "b75ab6ce",
   "metadata": {},
   "outputs": [],
   "source": []
  },
  {
   "cell_type": "code",
   "execution_count": null,
   "id": "07dac7f5",
   "metadata": {},
   "outputs": [],
   "source": []
  },
  {
   "cell_type": "code",
   "execution_count": null,
   "id": "e11e49dd",
   "metadata": {},
   "outputs": [],
   "source": []
  },
  {
   "cell_type": "code",
   "execution_count": null,
   "id": "578d09ea",
   "metadata": {},
   "outputs": [],
   "source": []
  },
  {
   "cell_type": "code",
   "execution_count": null,
   "id": "15d0a9a3",
   "metadata": {},
   "outputs": [],
   "source": []
  },
  {
   "cell_type": "code",
   "execution_count": null,
   "id": "d61fb1a4",
   "metadata": {},
   "outputs": [],
   "source": []
  },
  {
   "cell_type": "code",
   "execution_count": null,
   "id": "6732c478",
   "metadata": {},
   "outputs": [],
   "source": []
  },
  {
   "cell_type": "code",
   "execution_count": null,
   "id": "51623264",
   "metadata": {},
   "outputs": [],
   "source": []
  },
  {
   "cell_type": "code",
   "execution_count": null,
   "id": "adec3ad1",
   "metadata": {},
   "outputs": [],
   "source": []
  }
 ],
 "metadata": {
  "kernelspec": {
   "display_name": "Python 3 (ipykernel)",
   "language": "python",
   "name": "python3"
  },
  "language_info": {
   "codemirror_mode": {
    "name": "ipython",
    "version": 3
   },
   "file_extension": ".py",
   "mimetype": "text/x-python",
   "name": "python",
   "nbconvert_exporter": "python",
   "pygments_lexer": "ipython3",
   "version": "3.7.16"
  }
 },
 "nbformat": 4,
 "nbformat_minor": 5
}
