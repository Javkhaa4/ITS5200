{
 "cells": [
  {
   "cell_type": "markdown",
   "id": "f65613c4",
   "metadata": {},
   "source": [
    "## Libraries"
   ]
  },
  {
   "cell_type": "code",
   "execution_count": 1,
   "id": "a4b10461",
   "metadata": {},
   "outputs": [],
   "source": [
    "import numpy as np\n",
    "import torch\n",
    "import pandas as pd\n",
    "## pandas lib could work csv file\n",
    "\n",
    "import sklearn\n",
    "import random\n",
    "import torch.nn as nn\n",
    "import torch.nn.functional as F\n",
    "import torch.optim as optim\n"
   ]
  },
  {
   "cell_type": "code",
   "execution_count": 2,
   "id": "64e577e8",
   "metadata": {},
   "outputs": [],
   "source": [
    "import matplotlib.pyplot as plt\n",
    "\n",
    "from mlxtend.plotting import heatmap\n",
    "from sklearn.model_selection import train_test_split \n",
    "from torch.utils.data import TensorDataset, DataLoader\n",
    "\n",
    "## standard metrics in regression\n",
    "## coefficeint in determination\n",
    "from sklearn.metrics import r2_score\n",
    "\n",
    "import xgboost as xgb"
   ]
  },
  {
   "cell_type": "code",
   "execution_count": null,
   "id": "98917923",
   "metadata": {},
   "outputs": [],
   "source": []
  },
  {
   "cell_type": "markdown",
   "id": "f93e7907",
   "metadata": {},
   "source": [
    "## Read data "
   ]
  },
  {
   "cell_type": "code",
   "execution_count": 3,
   "id": "91a94d40",
   "metadata": {},
   "outputs": [],
   "source": [
    "\n",
    "path_data = 'data/winequality-white.csv'\n",
    "\n",
    "WINE_raw_data = pd.read_csv (path_data, delimiter = \";\")\n",
    "\n",
    "## WINE_raw_data -d csv file iig duudaj ugj bn."
   ]
  },
  {
   "cell_type": "code",
   "execution_count": 4,
   "id": "ddebf6c7",
   "metadata": {},
   "outputs": [],
   "source": [
    "## headers_list\n",
    "\n",
    "headers_list = WINE_raw_data.columns.values.tolist ()\n",
    "##csv file iin header deer bga medeelliig avj list helberluu shiljuulj label hiihdee ashiglahad beldej bna\n",
    "\n",
    "## headers_list"
   ]
  },
  {
   "cell_type": "code",
   "execution_count": null,
   "id": "be9ce840",
   "metadata": {},
   "outputs": [],
   "source": []
  },
  {
   "cell_type": "code",
   "execution_count": null,
   "id": "f04d5e9a",
   "metadata": {},
   "outputs": [],
   "source": []
  },
  {
   "cell_type": "markdown",
   "id": "24ed3609",
   "metadata": {},
   "source": [
    "## Process Data"
   ]
  },
  {
   "cell_type": "code",
   "execution_count": 5,
   "id": "28be7723",
   "metadata": {},
   "outputs": [],
   "source": [
    "## Convert Pandas to Numpy\n",
    "## CSV filed bsan datag Pandas aar unshij avsan bsanaa Numpy ruu hurvuulj deer n ajillahad beldej bn\n",
    "\n",
    "WINE_raw_data_np = WINE_raw_data.to_numpy()\n"
   ]
  },
  {
   "cell_type": "code",
   "execution_count": 6,
   "id": "2870510f",
   "metadata": {},
   "outputs": [],
   "source": [
    "## WINE_raw_data_np"
   ]
  },
  {
   "cell_type": "code",
   "execution_count": 7,
   "id": "618ff421",
   "metadata": {},
   "outputs": [],
   "source": [
    "## WINE_raw_data_np.shape"
   ]
  },
  {
   "cell_type": "code",
   "execution_count": 8,
   "id": "dff59ddb",
   "metadata": {},
   "outputs": [],
   "source": [
    "## indexing data\n",
    "\n",
    "X = WINE_raw_data_np [:, :-1]\n",
    "## , buh row iig avna. columns aas suuliin negiig songoj avna (slicing)\n",
    "\n",
    "y = WINE_raw_data_np [:,11:12]\n",
    "\n"
   ]
  },
  {
   "cell_type": "code",
   "execution_count": 9,
   "id": "d2dc9097",
   "metadata": {},
   "outputs": [],
   "source": [
    "## print (X.shape)\n",
    "## print (y.shape)"
   ]
  },
  {
   "cell_type": "markdown",
   "id": "e09fa329",
   "metadata": {},
   "source": [
    "## Random Seed"
   ]
  },
  {
   "cell_type": "code",
   "execution_count": 38,
   "id": "e5e41aa2",
   "metadata": {},
   "outputs": [],
   "source": [
    "random_seed = int (random.random() *100)"
   ]
  },
  {
   "cell_type": "code",
   "execution_count": 39,
   "id": "127649ac",
   "metadata": {},
   "outputs": [
    {
     "data": {
      "text/plain": [
       "27"
      ]
     },
     "execution_count": 39,
     "metadata": {},
     "output_type": "execute_result"
    }
   ],
   "source": [
    "random_seed"
   ]
  },
  {
   "cell_type": "code",
   "execution_count": 40,
   "id": "8c24ddde",
   "metadata": {},
   "outputs": [],
   "source": [
    "X_train, X_test, y_train, y_test = train_test_split (X, y, test_size = 0.2, random_state = random_seed)"
   ]
  },
  {
   "cell_type": "code",
   "execution_count": 41,
   "id": "12514880",
   "metadata": {},
   "outputs": [],
   "source": [
    "## print (X_train.shape)\n",
    "## print (X_test.shape)\n",
    "## print (y_train.shape)\n",
    "## print (y_test.shape)"
   ]
  },
  {
   "cell_type": "code",
   "execution_count": null,
   "id": "af4b6a49",
   "metadata": {},
   "outputs": [],
   "source": []
  },
  {
   "cell_type": "markdown",
   "id": "e77e7d5f",
   "metadata": {},
   "source": [
    "## XGBoost"
   ]
  },
  {
   "cell_type": "code",
   "execution_count": 42,
   "id": "177df1a5",
   "metadata": {},
   "outputs": [],
   "source": [
    "\n",
    "regressor = xgb.XGBRegressor (\n",
    "        \n",
    "        n_estimators = 200,\n",
    "        reg_lambda = 1,\n",
    "        gamma = 0,\n",
    "        max_depth = 10\n",
    "\n",
    ")\n"
   ]
  },
  {
   "cell_type": "code",
   "execution_count": 43,
   "id": "eb091980",
   "metadata": {},
   "outputs": [
    {
     "data": {
      "text/plain": [
       "XGBRegressor(base_score=0.5, booster='gbtree', callbacks=None,\n",
       "             colsample_bylevel=1, colsample_bynode=1, colsample_bytree=1,\n",
       "             early_stopping_rounds=None, enable_categorical=False,\n",
       "             eval_metric=None, gamma=0, gpu_id=-1, grow_policy='depthwise',\n",
       "             importance_type=None, interaction_constraints='',\n",
       "             learning_rate=0.300000012, max_bin=256, max_cat_to_onehot=4,\n",
       "             max_delta_step=0, max_depth=10, max_leaves=0, min_child_weight=1,\n",
       "             missing=nan, monotone_constraints='()', n_estimators=200, n_jobs=0,\n",
       "             num_parallel_tree=1, predictor='auto', random_state=0, reg_alpha=0,\n",
       "             reg_lambda=1, ...)"
      ]
     },
     "execution_count": 43,
     "metadata": {},
     "output_type": "execute_result"
    }
   ],
   "source": [
    "\n",
    "regressor.fit (X_train, y_train)\n"
   ]
  },
  {
   "cell_type": "code",
   "execution_count": 44,
   "id": "9a60f8c0",
   "metadata": {},
   "outputs": [],
   "source": [
    "\n",
    "y_pred = regressor.predict (X_test)\n"
   ]
  },
  {
   "cell_type": "code",
   "execution_count": 45,
   "id": "af794be1",
   "metadata": {},
   "outputs": [
    {
     "data": {
      "text/plain": [
       "0.5097302145824999"
      ]
     },
     "execution_count": 45,
     "metadata": {},
     "output_type": "execute_result"
    }
   ],
   "source": [
    "\n",
    "r2_score (y_test, y_pred)\n"
   ]
  },
  {
   "cell_type": "code",
   "execution_count": 28,
   "id": "0dcc1d9c",
   "metadata": {},
   "outputs": [],
   "source": [
    "\n",
    "## y_pred.shape\n"
   ]
  },
  {
   "cell_type": "code",
   "execution_count": 29,
   "id": "2bf03ec6",
   "metadata": {},
   "outputs": [],
   "source": [
    "\n",
    "## y_pred\n"
   ]
  },
  {
   "cell_type": "code",
   "execution_count": null,
   "id": "649d78e1",
   "metadata": {},
   "outputs": [],
   "source": []
  },
  {
   "cell_type": "code",
   "execution_count": null,
   "id": "1a4e0c83",
   "metadata": {},
   "outputs": [],
   "source": []
  },
  {
   "cell_type": "code",
   "execution_count": null,
   "id": "712d0da8",
   "metadata": {},
   "outputs": [],
   "source": []
  }
 ],
 "metadata": {
  "kernelspec": {
   "display_name": "Python 3 (ipykernel)",
   "language": "python",
   "name": "python3"
  },
  "language_info": {
   "codemirror_mode": {
    "name": "ipython",
    "version": 3
   },
   "file_extension": ".py",
   "mimetype": "text/x-python",
   "name": "python",
   "nbconvert_exporter": "python",
   "pygments_lexer": "ipython3",
   "version": "3.7.16"
  }
 },
 "nbformat": 4,
 "nbformat_minor": 5
}
